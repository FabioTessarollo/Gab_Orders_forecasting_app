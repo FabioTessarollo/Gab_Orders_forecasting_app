{
 "cells": [
  {
   "cell_type": "code",
   "execution_count": 3,
   "id": "fcd55166-2f41-499b-82b8-44bd62b63418",
   "metadata": {},
   "outputs": [],
   "source": [
    "import numpy as np\n",
    "import pandas as pd\n",
    "\n",
    "import matplotlib.pyplot as plt\n",
    "%matplotlib inline\n",
    "\n",
    "import math\n",
    "from keras.models import Sequential\n",
    "from keras.layers import Dense\n",
    "from keras.layers import LSTM\n",
    "from sklearn.preprocessing import MinMaxScaler\n",
    "from sklearn.metrics import mean_squared_error\n",
    "from sklearn.metrics import mean_absolute_error\n",
    "\n",
    "import itertools"
   ]
  },
  {
   "cell_type": "code",
   "execution_count": 11,
   "id": "8d0b2c60-4747-41f0-9be8-615b4b07fc43",
   "metadata": {},
   "outputs": [],
   "source": [
    "df = pd.read_csv('YSL.csv', index_col='date')"
   ]
  },
  {
   "cell_type": "code",
   "execution_count": 12,
   "id": "316c65b7-1294-4fc5-8eed-dfc19f5e8d15",
   "metadata": {},
   "outputs": [],
   "source": [
    "df = df[['qty']]"
   ]
  },
  {
   "cell_type": "code",
   "execution_count": null,
   "id": "9c0045dc-9520-4c67-bbdc-94a88e1dafa8",
   "metadata": {},
   "outputs": [],
   "source": []
  },
  {
   "cell_type": "code",
   "execution_count": 6,
   "id": "6b359933-761a-4a60-a171-8854b8bc0125",
   "metadata": {},
   "outputs": [],
   "source": [
    "def suca():\n",
    "    return 1, 2"
   ]
  },
  {
   "cell_type": "code",
   "execution_count": 9,
   "id": "2ea9d79e-c237-4b98-85de-a2ca0e8a88bf",
   "metadata": {},
   "outputs": [
    {
     "data": {
      "text/plain": [
       "1"
      ]
     },
     "execution_count": 9,
     "metadata": {},
     "output_type": "execute_result"
    }
   ],
   "source": [
    "suca()[0]"
   ]
  }
 ],
 "metadata": {
  "kernelspec": {
   "display_name": "Python 3 (ipykernel)",
   "language": "python",
   "name": "python3"
  },
  "language_info": {
   "codemirror_mode": {
    "name": "ipython",
    "version": 3
   },
   "file_extension": ".py",
   "mimetype": "text/x-python",
   "name": "python",
   "nbconvert_exporter": "python",
   "pygments_lexer": "ipython3",
   "version": "3.12.3"
  }
 },
 "nbformat": 4,
 "nbformat_minor": 5
}
