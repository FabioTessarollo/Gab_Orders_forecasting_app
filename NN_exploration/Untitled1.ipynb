{
 "cells": [
  {
   "cell_type": "code",
   "execution_count": null,
   "id": "e2e31694-5dbd-43a3-b6fa-8a8a71207929",
   "metadata": {},
   "outputs": [],
   "source": []
  }
 ],
 "metadata": {
  "kernelspec": {
   "display_name": "",
   "name": ""
  },
  "language_info": {
   "name": ""
  }
 },
 "nbformat": 4,
 "nbformat_minor": 5
}
